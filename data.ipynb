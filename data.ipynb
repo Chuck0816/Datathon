{
 "cells": [
  {
   "cell_type": "code",
   "execution_count": 15,
   "metadata": {},
   "outputs": [
    {
     "data": {
      "text/plain": [
       "0         5152.54\n",
       "1          311.71\n",
       "2         1482.13\n",
       "3         1039.10\n",
       "4         1392.79\n",
       "           ...   \n",
       "658223     -20.00\n",
       "658224    1054.83\n",
       "658225     -28.24\n",
       "658226    1974.72\n",
       "658227     105.00\n",
       "Name: prev_balance, Length: 658228, dtype: float64"
      ]
     },
     "execution_count": 15,
     "metadata": {},
     "output_type": "execute_result"
    }
   ],
   "source": [
    "import pandas as pd\n",
    "df_pre_balance = pd.read_csv('statement_fact_20250325.csv')\n",
    "df_pre_balance = df_pre_balance['prev_balance']\n",
    "df_pre_balance"
   ]
  },
  {
   "cell_type": "code",
   "execution_count": null,
   "metadata": {},
   "outputs": [],
   "source": [
    "df_transaction = pd.read_csv(\"transaction_fact_20250325.csv\")"
   ]
  }
 ],
 "metadata": {
  "kernelspec": {
   "display_name": "Python 3",
   "language": "python",
   "name": "python3"
  },
  "language_info": {
   "codemirror_mode": {
    "name": "ipython",
    "version": 3
   },
   "file_extension": ".py",
   "mimetype": "text/x-python",
   "name": "python",
   "nbconvert_exporter": "python",
   "pygments_lexer": "ipython3",
   "version": "3.9.6"
  }
 },
 "nbformat": 4,
 "nbformat_minor": 2
}
